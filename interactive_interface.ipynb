{
 "cells": [
  {
   "cell_type": "code",
   "execution_count": 1,
   "metadata": {},
   "outputs": [
    {
     "data": {
      "application/vnd.jupyter.widget-view+json": {
       "model_id": "baf7b2d7a4434baf92ee08415d1b1039",
       "version_major": 2,
       "version_minor": 0
      },
      "text/plain": [
       "HTML(value=\"<h2 style='padding-left:60px;'>Iris Flower Classification Application</h2>\")"
      ]
     },
     "metadata": {},
     "output_type": "display_data"
    },
    {
     "data": {
      "application/vnd.jupyter.widget-view+json": {
       "model_id": "5babfa09719d4e52bb748137e8664599",
       "version_major": 2,
       "version_minor": 0
      },
      "text/plain": [
       "VBox(children=(Text(value='', description='Sepal Length: ', layout=Layout(width='500px'), placeholder='the len…"
      ]
     },
     "metadata": {},
     "output_type": "display_data"
    }
   ],
   "source": [
    "import ipywidgets as widgets\n",
    "import requests\n",
    "import json\n",
    "import time\n",
    "from IPython.display import display\n",
    "\n",
    "# Create the widgets\n",
    "SepalLength = widgets.Text(description='Sepal Length: ', placeholder='the length of the sepal (in cm)', layout=widgets.Layout(width='500px'))\n",
    "SepalWidth = widgets.Text(description='Sepal Width: ', placeholder='the width of the sepal (in cm)', layout=widgets.Layout(width='500px'))\n",
    "PetalLength = widgets.Text(description='Petal Length: ', placeholder='the length of the petal (in cm)', layout=widgets.Layout(width='500px'))\n",
    "PetalWidth = widgets.Text(description='Petal Width: ', placeholder='the width of the petal (in cm)', layout=widgets.Layout(width='500px'))\n",
    "submit = widgets.Button(description=\"Submit\", button_style='success')\n",
    "output = widgets.Output()\n",
    "progress = widgets.IntProgress(value=0, min=0, max=30, step=1, description='Loading:', layout=widgets.Layout(width='500px'))\n",
    "\n",
    "\n",
    "# Function to extract the values from the widgets\n",
    "def get_values():\n",
    "    return {\n",
    "        'SepalLength': SepalLength.value,\n",
    "        'SepalWidth': SepalWidth.value,\n",
    "        'PetalLength': PetalLength.value,\n",
    "        'avebPetalWidthedrms': PetalWidth.value,\n",
    "    }\n",
    "\n",
    "# Function to check if all fields have been filled\n",
    "def check_values(values):\n",
    "    for key, value in values.items():\n",
    "        if not value:\n",
    "            print(f\"Please input {key}!\")\n",
    "            return False\n",
    "    return True\n",
    "\n",
    "# Function to make the prediction\n",
    "def make_prediction(values):\n",
    "    # Define the URL of the web service\n",
    "    url = \"https://us-west2-argon-system-385817.cloudfunctions.net/CloudProject3\"\n",
    "    # Define the instance for which you want to make a prediction\n",
    "    instance = list(values.values())\n",
    "    # Simulate progress\n",
    "    for i in range(30):\n",
    "        time.sleep(1)  # replace with real work\n",
    "        progress.value = i + 1\n",
    "    # Make the POST request\n",
    "    response = requests.post(url, json={'instance': instance})\n",
    "    # Print the prediction\n",
    "    pred = json.loads(response.text)['prediction']\n",
    "    with output:\n",
    "        if pred == 0:\n",
    "            print(\"The class of your iris flower is Setosa.\")\n",
    "        elif pred == 1:\n",
    "            print(\"The class of your iris flower is Versicolor.\")\n",
    "        else:\n",
    "            print(\"The class of your iris flower is Virginica.\")\n",
    "    progress.value = 0\n",
    "\n",
    "def on_button_clicked(b):\n",
    "    output.clear_output()  # Clear the output\n",
    "    # Get the values from the widgets\n",
    "    values = get_values()\n",
    "    # Check if all values have been filled\n",
    "    if check_values(values):\n",
    "        make_prediction(values)\n",
    "        submit.button_style = 'info'  # Change button color to grey\n",
    "\n",
    "# Add a title\n",
    "title = widgets.HTML(\"<h2 style='padding-left:60px;'>Iris Flower Classification Application</h2>\")\n",
    "# Center submit button\n",
    "invisible_widget = widgets.Label(layout=widgets.Layout(width='200px'))\n",
    "offset_submit = widgets.HBox([invisible_widget, submit])\n",
    "# Group widgets\n",
    "input_widgets = widgets.VBox([SepalLength, SepalWidth, PetalLength, PetalWidth, offset_submit, progress, output])\n",
    "# Add the event handler to the button\n",
    "submit.on_click(on_button_clicked)\n",
    "# Display everything\n",
    "display(title, input_widgets)"
   ]
  },
  {
   "cell_type": "code",
   "execution_count": null,
   "metadata": {},
   "outputs": [],
   "source": []
  }
 ],
 "metadata": {
  "kernelspec": {
   "display_name": "base",
   "language": "python",
   "name": "python3"
  },
  "language_info": {
   "codemirror_mode": {
    "name": "ipython",
    "version": 3
   },
   "file_extension": ".py",
   "mimetype": "text/x-python",
   "name": "python",
   "nbconvert_exporter": "python",
   "pygments_lexer": "ipython3",
   "version": "3.9.13"
  },
  "orig_nbformat": 4
 },
 "nbformat": 4,
 "nbformat_minor": 2
}
