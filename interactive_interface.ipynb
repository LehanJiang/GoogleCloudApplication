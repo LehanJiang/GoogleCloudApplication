{
 "cells": [
  {
   "cell_type": "code",
   "execution_count": 1,
   "id": "e8a43f07",
   "metadata": {},
   "outputs": [
    {
     "data": {
      "application/vnd.jupyter.widget-view+json": {
       "model_id": "239d92ac0c4e456483ce3e17fa431f2c",
       "version_major": 2,
       "version_minor": 0
      },
      "text/plain": [
       "HTML(value=\"<h2 style='padding-left:60px;'>California House Price Prediction Application</h2>\")"
      ]
     },
     "metadata": {},
     "output_type": "display_data"
    },
    {
     "data": {
      "application/vnd.jupyter.widget-view+json": {
       "model_id": "dcb1c6d91e8e43f6b32ddc433699a452",
       "version_major": 2,
       "version_minor": 0
      },
      "text/plain": [
       "VBox(children=(Text(value='', description='MedInc: ', layout=Layout(width='500px'), placeholder='Median Income…"
      ]
     },
     "metadata": {},
     "output_type": "display_data"
    }
   ],
   "source": [
    "import ipywidgets as widgets\n",
    "import requests\n",
    "import json\n",
    "import time\n",
    "from IPython.display import display\n",
    "\n",
    "# Create the widgets\n",
    "MedInc = widgets.Text(description='MedInc: ', placeholder='Median Income in block (thousands USD)', layout=widgets.Layout(width='500px'))\n",
    "HouseAge = widgets.Text(description='HouseAge: ', placeholder='Median house age in block (years)', layout=widgets.Layout(width='500px'))\n",
    "AveRooms = widgets.Text(description='AveRooms: ', placeholder='Average number of rooms', layout=widgets.Layout(width='500px'))\n",
    "AveBedrms = widgets.Text(description='AveBedrms: ', placeholder='Average number of bedrooms', layout=widgets.Layout(width='500px'))\n",
    "Population = widgets.Text(description='Population: ', placeholder='Block population', layout=widgets.Layout(width='500px'))\n",
    "AveOccup = widgets.Text(description='AveOccup: ', placeholder='Average house occupancy (residents per household)', layout=widgets.Layout(width='500px'))\n",
    "Latitude = widgets.Text(description='Latitude: ', placeholder='House block latitude (degrees)', layout=widgets.Layout(width='500px'))\n",
    "Longitude = widgets.Text(description='Longitude: ', placeholder='House block longitude (degrees)', layout=widgets.Layout(width='500px'))\n",
    "submit = widgets.Button(description=\"Submit\", button_style='success')\n",
    "output = widgets.Output()\n",
    "progress = widgets.IntProgress(value=0, min=0, max=30, step=1, description='Loading:', layout=widgets.Layout(width='500px'))\n",
    "\n",
    "\n",
    "# Function to extract the values from the widgets\n",
    "def get_values():\n",
    "    return {\n",
    "        'medinc': MedInc.value,\n",
    "        'houseage': HouseAge.value,\n",
    "        'averooms': AveRooms.value,\n",
    "        'avebedrms': AveBedrms.value,\n",
    "        'population': Population.value,\n",
    "        'aveoccup': AveOccup.value,\n",
    "        'latitude': Latitude.value,\n",
    "        'longitude': Longitude.value\n",
    "    }\n",
    "\n",
    "# Function to check if all fields have been filled\n",
    "def check_values(values):\n",
    "    for key, value in values.items():\n",
    "        if not value:\n",
    "            print(f\"Please input {key}!\")\n",
    "            return False\n",
    "    return True\n",
    "\n",
    "# Function to make the prediction\n",
    "def make_prediction(values):\n",
    "    # Define the URL of the web service\n",
    "    url = \"https://us-west2-webscrapingml.cloudfunctions.net/hw2-3_machinelearning\"\n",
    "    # Define the instance for which you want to make a prediction\n",
    "    instance = list(values.values())\n",
    "    # Simulate progress\n",
    "    for i in range(30):\n",
    "        time.sleep(1)  # replace with real work\n",
    "        progress.value = i + 1\n",
    "    # Make the POST request\n",
    "    response = requests.post(url, json={'instance': instance})\n",
    "    # Print the prediction\n",
    "    pred = json.loads(response.text)['prediction']\n",
    "    with output:\n",
    "        print(f\"The house price prediction is ${round(pred[0]*100000, 2)} dollars.\")\n",
    "    progress.value = 0\n",
    "\n",
    "def on_button_clicked(b):\n",
    "    output.clear_output()  # Clear the output\n",
    "    # Get the values from the widgets\n",
    "    values = get_values()\n",
    "    # Check if all values have been filled\n",
    "    if check_values(values):\n",
    "        make_prediction(values)\n",
    "        submit.button_style = 'info'  # Change button color to grey\n",
    "\n",
    "# Add a title\n",
    "title = widgets.HTML(\"<h2 style='padding-left:60px;'>California House Price Prediction Application</h2>\")\n",
    "# Center submit button\n",
    "invisible_widget = widgets.Label(layout=widgets.Layout(width='200px'))\n",
    "offset_submit = widgets.HBox([invisible_widget, submit])\n",
    "# Group widgets\n",
    "input_widgets = widgets.VBox([MedInc, HouseAge, AveRooms, AveBedrms, Population, AveOccup, Latitude, Longitude, offset_submit, progress, output])\n",
    "# Add the event handler to the button\n",
    "submit.on_click(on_button_clicked)\n",
    "# Display everything\n",
    "display(title, input_widgets)"
   ]
  }
 ],
 "metadata": {
  "kernelspec": {
   "display_name": "Python 3 (ipykernel)",
   "language": "python",
   "name": "python3"
  },
  "language_info": {
   "codemirror_mode": {
    "name": "ipython",
    "version": 3
   },
   "file_extension": ".py",
   "mimetype": "text/x-python",
   "name": "python",
   "nbconvert_exporter": "python",
   "pygments_lexer": "ipython3",
   "version": "3.11.3"
  },
  "toc": {
   "base_numbering": 1,
   "nav_menu": {},
   "number_sections": true,
   "sideBar": true,
   "skip_h1_title": false,
   "title_cell": "Table of Contents",
   "title_sidebar": "Contents",
   "toc_cell": false,
   "toc_position": {},
   "toc_section_display": true,
   "toc_window_display": false
  }
 },
 "nbformat": 4,
 "nbformat_minor": 5
}
